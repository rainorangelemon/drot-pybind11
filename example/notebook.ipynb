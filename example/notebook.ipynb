{
 "cells": [
  {
   "cell_type": "code",
   "execution_count": 13,
   "metadata": {},
   "outputs": [
    {
     "name": "stdout",
     "output_type": "stream",
     "text": [
      "The autoreload extension is already loaded. To reload it, use:\n",
      "  %reload_ext autoreload\n"
     ]
    }
   ],
   "source": [
    "%matplotlib inline\n",
    "import sys, os\n",
    "sys.path.append(\"../\")\n",
    "import numpy as np\n",
    "import scipy as sp\n",
    "import numpy.linalg as nla\n",
    "import matplotlib as mpl\n",
    "import matplotlib.pyplot as plt\n",
    "import matplotlib.pylab as pl\n",
    "from timeit import timeit\n",
    "import ot\n",
    "import ot.plot\n",
    "from ot.datasets import make_1D_gauss as gauss\n",
    "from drot.solver import drot, drot2, PDHG\n",
    "from drot.proximal import *\n",
    "%load_ext autoreload\n",
    "%autoreload 2"
   ]
  },
  {
   "cell_type": "markdown",
   "metadata": {},
   "source": [
    "# Optimal transport"
   ]
  },
  {
   "cell_type": "code",
   "execution_count": 10,
   "metadata": {},
   "outputs": [],
   "source": [
    "def one_dimensional_gaussian_ot(n):\n",
    "    t = np.arange(0, n)/n\n",
    "    Gaussian = lambda t0, sigma: np.exp(-(t-t0)**2 / (2*sigma**2))\n",
    "    normalize = lambda p: p / np.sum(p)\n",
    "    sigma = 0.1;\n",
    "    p = Gaussian(.75, sigma)\n",
    "    q = Gaussian(.15, sigma)\n",
    "    vmin = .02;\n",
    "    p = normalize(p + np.max(p) * vmin)\n",
    "    q = normalize(q + np.max(q) * vmin)\n",
    "    [Y,X] = np.meshgrid(t,t)\n",
    "    C = np.array((X-Y)**2, order='F')\n",
    "    # C = np.array(np.abs(X-Y), order='F')\n",
    "    return n, C, p, q\n",
    "\n",
    "def two_dimensional_gaussian_ot(m, n):\n",
    "    mu_s = np.array([0, 0.5])\n",
    "    cov_s = np.array([[1, 0.5], [0.5, 1]])\n",
    "    mu_t = np.array([4, 10])\n",
    "    cov_t = np.array([[1, -.8], [-.8, 1]])\n",
    "    xs = ot.datasets.make_2D_samples_gauss(m, mu_s, cov_s)\n",
    "    xt = ot.datasets.make_2D_samples_gauss(n, mu_t, cov_t)\n",
    "    p, q = np.ones((m,)) / m, np.ones((n,)) / n  \n",
    "    C = np.array(ot.dist(xs, xt), order='F')\n",
    "    C /= C.max()\n",
    "\n",
    "    return m, n, C, p, q"
   ]
  },
  {
   "cell_type": "code",
   "execution_count": 40,
   "metadata": {
    "scrolled": true,
    "tags": []
   },
   "outputs": [
    {
     "name": "stdout",
     "output_type": "stream",
     "text": [
      "Solve time:  0.1322770118713379\n",
      "Solve time:  0.06894207000732422\n"
     ]
    },
    {
     "data": {
      "text/plain": [
       "<matplotlib.legend.Legend at 0x7f847b54df10>"
      ]
     },
     "execution_count": 40,
     "metadata": {},
     "output_type": "execute_result"
    },
    {
     "data": {
      "image/png": "[encoded data removed]",
      "text/plain": [
       "<Figure size 720x576 with 1 Axes>"
      ]
     },
     "metadata": {
      "needs_background": "light"
     },
     "output_type": "display_data"
    }
   ],
   "source": [
    "max_iters = 500\n",
    "step = 0.1\n",
    "\n",
    "m, n, C, p, q = two_dimensional_gaussian_ot(100, 100)\n",
    "x0 = np.ones((m, n), order='F') / n\n",
    "eta, tau = (1/(m+n))**0.5, (1/(m+n))**0.5\n",
    "\n",
    "assert C.flags['F_CONTIGUOUS']   \n",
    "assert x0.flags['F_CONTIGUOUS']   \n",
    "\n",
    "proxf = lambda x, stz: trace_nonnegative_prox(x, C, stz)\n",
    "proxg = lambda x, stz: generalized_doubly_stochastic_matrices_projection(x, p, q)\n",
    "# proxg_ = lambda x, y, stz: primal_dual_trace_nonnegative_prox(x, C, y, stz)\n",
    "# proxh = lambda x, xnew, y, stz: primal_dual_linear_prox(x, xnew, y, p, q, stz)\n",
    "\n",
    "drout  = drot(x0, C, p, q, max_iters=max_iters, step=step, compute_r_primal=True, \n",
    "              compute_r_dual=True, adapt_stepsize=False, fixed_restart=False, \n",
    "              milestones=[100, 500, 1000], eps_abs=1e-10, eps_rel=1e-10, verbose=False)\n",
    "\n",
    "dr2out  = drot2(x0, proxf, proxg, np.hstack((p,q)), max_iters, step=step, relaxation=1.0, compute_r_primal=True, \n",
    "              compute_r_dual=True, adapt_stepsize=False, fixed_restart=True, milestones=[100, 500, 1000], \n",
    "              eps_abs=1e-10, eps_rel=1e-10)\n",
    "# cpout  = PDHG(x0, proxg_, proxh, max_iters, eta=eta, tau=tau, relaxation=1.0)\n",
    "\n",
    "xopt = drout[\"sol\"]\n",
    "x2opt = dr2out[\"sol\"]\n",
    "# xopt_cp = cpout[\"sol\"]\n",
    "\n",
    "plt.figure(1, figsize=(10,8))\n",
    "plt.plot(range(drout[\"num_iters\"]), [r for r in drout['primal']], label='DR-primal')\n",
    "# plt.plot(range(drout[\"num_iters\"]), [r for r in drout['dual']], label='DR-dual')\n",
    "plt.ylabel(\"primal residual\") \n",
    "plt.yscale('log')\n",
    "plt.legend()\n",
    "\n",
    "plt.figure(1, figsize=(10,8))\n",
    "plt.plot(range(dr2out[\"num_iters\"]), [r for r in dr2out['primal']], label='DR2-primal')\n",
    "plt.plot(range(dr2out[\"num_iters\"]), [r for r in dr2out['dual']], label='DR2-dual')\n",
    "plt.ylabel(\"primal residual\") \n",
    "plt.yscale('log')\n",
    "plt.legend()\n",
    "\n",
    "# # plt.figure(2, figsize=(10,8))\n",
    "# plt.plot(range(cpout[\"num_iters\"]), [r for r in cpout['dual']], label='PDHG-dual')\n",
    "# # plt.ylabel(\"primal residual\") \n",
    "# plt.yscale('log')\n",
    "# plt.legend()"
   ]
  },
  {
   "cell_type": "code",
   "execution_count": null,
   "metadata": {},
   "outputs": [],
   "source": [
    "C_ = C.copy()\n",
    "G0 = ot.emd(p, q, C_)\n",
    "Gs = ot.sinkhorn(p, q, C_, 1e-3, verbose=False)\n",
    "nla.norm(xopt - G0, ord='fro'),\\\n",
    "nla.norm(Gs - G0, ord='fro')"
   ]
  },
  {
   "cell_type": "code",
   "execution_count": null,
   "metadata": {},
   "outputs": [],
   "source": [
    "np.sum(G0 >= 1e-14) "
   ]
  },
  {
   "cell_type": "code",
   "execution_count": null,
   "metadata": {},
   "outputs": [],
   "source": [
    "np.trace(xopt.T.dot(C)), np.trace(G0.T.dot(C_)), np.trace(Gs.T.dot(C_))"
   ]
  },
  {
   "cell_type": "code",
   "execution_count": null,
   "metadata": {},
   "outputs": [],
   "source": [
    "pl.figure(1)\n",
    "pl.imshow(xopt, interpolation='nearest')\n",
    "pl.title('OT matrix DR')\n",
    "\n",
    "pl.figure(2)\n",
    "pl.imshow(G0, interpolation='nearest')\n",
    "pl.title('OT matrix G0')\n",
    "\n",
    "pl.figure(4)\n",
    "pl.imshow(xopt_cp, interpolation='nearest')\n",
    "pl.title('OT matrix PDHG')\n",
    "\n",
    "pl.figure(3)\n",
    "pl.imshow(Gs, interpolation='nearest')\n",
    "pl.title('OT matrix Sinkhorn')"
   ]
  },
  {
   "cell_type": "code",
   "execution_count": null,
   "metadata": {},
   "outputs": [],
   "source": [
    "pl.figure(3, figsize=(6, 4))\n",
    "ot.plot.plot1D_mat(p, q, xopt.T, 'OT matrix DR')\n",
    "# pl.title(\"---\")\n",
    "\n",
    "pl.figure(6, figsize=(6, 4))\n",
    "ot.plot.plot1D_mat(p, q, G0, 'OT matrix LP')\n",
    "\n",
    "pl.figure(9, figsize=(6, 4))\n",
    "ot.plot.plot1D_mat(p, q, Gs, 'OT matrix Sinkhorn')\n",
    "pl.show()"
   ]
  },
  {
   "cell_type": "code",
   "execution_count": null,
   "metadata": {},
   "outputs": [],
   "source": [
    "def Sinkhorn(C, reg, a, b, delta=1e-9, lam=1e-6):\n",
    "\n",
    "    K = np.exp(-C / reg)\n",
    "    u = np.ones(np.shape(a)[0])\n",
    "    v = np.ones(np.shape(b)[0])\n",
    "\n",
    "    u_trans = np.dot(K, v) + lam  # add regularization to avoid divide 0\n",
    "    v_trans = np.dot(K.T, u) + lam  # add regularization to avoid divide 0\n",
    "\n",
    "    err_1 = np.sum(np.abs(u * u_trans - a))\n",
    "    err_2 = np.sum(np.abs(v * v_trans - b))\n",
    "\n",
    "    while True:\n",
    "        if err_1 + err_2 > delta:\n",
    "            u = a / u_trans\n",
    "            v_trans = np.dot(K.T, u) + lam\n",
    "\n",
    "            v = b / v_trans\n",
    "            u_trans = np.dot(K, v) + lam\n",
    "\n",
    "            err_1 = np.sum(np.abs(u * u_trans - a))\n",
    "            err_2 = np.sum(np.abs(v * v_trans - b))\n",
    "        else:\n",
    "            return u, v\n",
    "\n"
   ]
  },
  {
   "cell_type": "code",
   "execution_count": null,
   "metadata": {},
   "outputs": [],
   "source": [
    "# proxf_ = lambda x: nonneg_projection(x -  step * C_)\n",
    "# proxg_ = lambda x: generalized_doubly_stochastic_matrices_projection_(x, p, q)"
   ]
  }
 ],
 "metadata": {
  "interpreter": {
   "hash": "f4884be1e91315d779e4ffae1c5ca2afdbecf8830e8ecc49f4fe74e58837c66e"
  },
  "kernelspec": {
   "display_name": "Python [conda env:common]",
   "language": "python",
   "name": "conda-env-common-py"
  },
  "language_info": {
   "codemirror_mode": {
    "name": "ipython",
    "version": 3
   },
   "file_extension": ".py",
   "mimetype": "text/x-python",
   "name": "python",
   "nbconvert_exporter": "python",
   "pygments_lexer": "ipython3",
   "version": "3.8.10"
  }
 },
 "nbformat": 4,
 "nbformat_minor": 2
}
