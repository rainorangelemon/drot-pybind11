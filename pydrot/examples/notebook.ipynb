{
 "cells": [
  {
   "cell_type": "code",
   "execution_count": 1,
   "source": [
    "%matplotlib inline\n",
    "import sys, os\n",
    "sys.path.append(\"../\")\n",
    "import numpy as np\n",
    "import scipy as sp\n",
    "import numpy.linalg as nla\n",
    "import matplotlib as mpl\n",
    "import matplotlib.pyplot as plt\n",
    "import matplotlib.pylab as pl\n",
    "from timeit import timeit\n",
    "import ot\n",
    "import ot.plot\n",
    "from ot.datasets import make_1D_gauss as gauss\n",
    "from drot.solver import drot, drot_\n",
    "from drot.proximal import *\n",
    "import csv\n",
    "%load_ext autoreload\n",
    "%autoreload 2"
   ],
   "outputs": [],
   "metadata": {}
  },
  {
   "cell_type": "markdown",
   "source": [
    "# Optimal transport"
   ],
   "metadata": {}
  },
  {
   "cell_type": "code",
   "execution_count": 59,
   "source": [
    "def save(C, nrows, ncols, filename):\n",
    "    assert C.flags['F_CONTIGUOUS']   \n",
    "    output_file = open(filename, 'wb')\n",
    "    C.tofile(output_file)\n",
    "    output_file.close()\n",
    "\n",
    "def one_dimensional_gaussian_ot(n):\n",
    "    t = np.arange(0, n)/n\n",
    "    Gaussian = lambda t0, sigma: np.exp(-(t-t0)**2 / (2*sigma**2))\n",
    "    normalize = lambda p: p / np.sum(p)\n",
    "    sigma = 0.1;\n",
    "    p = Gaussian(.75, sigma)\n",
    "    q = Gaussian(.15, sigma)\n",
    "    vmin = .02;\n",
    "    p = normalize(p + np.max(p) * vmin)\n",
    "    q = normalize(q + np.max(q) * vmin)\n",
    "    [Y,X] = np.meshgrid(t,t)\n",
    "    C = np.array((X-Y)**2, order='F')\n",
    "    return n, C, p, q\n",
    "\n",
    "def two_dimensional_gaussian_ot(m, n):\n",
    "    mu_s = np.array([0, 0.5])\n",
    "    cov_s = np.array([[1, 0.15], [0.15, 1]])\n",
    "    mu_t = np.array([4, 10])\n",
    "    cov_t = np.array([[1, -.8], [-.8, 1]])\n",
    "    xs = ot.datasets.make_2D_samples_gauss(m, mu_s, cov_s)\n",
    "    xt = ot.datasets.make_2D_samples_gauss(n, mu_t, cov_t)\n",
    "    p, q = np.ones((m,)) / m, np.ones((n,)) / n  \n",
    "    C = np.array(ot.dist(xs, xt), order='F')\n",
    "    C /= C.max()\n",
    "    # C32 = np.array(C, order='F').astype(np.float32)\n",
    "    # save(C32, m, n, \"../gpu/data/cmatrix\")\n",
    "    return m, n, C, p, q\n"
   ],
   "outputs": [],
   "metadata": {}
  },
  {
   "cell_type": "code",
   "execution_count": 60,
   "source": [
    "def multi_experiment(m, n, max_iters, accuracies, skregs, alpha=1.0, ntests=20, verbskip=1):\n",
    "    num_accuracies = accuracies.shape[0]\n",
    "    num_algs = skregs.shape[0] + 1\n",
    "    # outs = np.zeros([num_algs, int(max_iters/verbskip), num_accuracies, ntests])\n",
    "    outs = np.zeros([num_algs, 1, num_accuracies, ntests])\n",
    "    \n",
    "    for test_idx in range(ntests):\n",
    "        print(\"\\n *** Experiment\", test_idx+1, \"of\", ntests, \"***\")\n",
    "        m, n, C, p, q = two_dimensional_gaussian_ot(m, n)\n",
    "        x0 = np.array(np.outer(p, q), order = 'F')\n",
    "        step = alpha / (m+n)\n",
    "        \n",
    "        C_ = C.copy()\n",
    "        G0 = ot.emd(p, q, C_, numItermax=1_000_000)\n",
    "        optval = np.sum(G0 * C_)\n",
    "\n",
    "        drout = drot_(x0, C, p, q, max_iters=max_iters, step=step, compute_r_primal=True, \n",
    "                        compute_r_dual=False, adapt_stepsize=False, eps_abs=1e-4, eps_rel=0.0)\n",
    "        \n",
    "        skout = []                        \n",
    "        for reg in skregs:\n",
    "            skout.append(ot.sinkhorn(p, q, C_, reg, numItermax=1000, stopThr=7e-5))\n",
    "        \n",
    "        outs[0, 0, :, test_idx] = abs(np.sum(drout['sol']*C) - optval) / optval\n",
    "        for sk_idx in range(skregs.shape[0]):\n",
    "           outs[sk_idx+1, 0, :, test_idx] = abs(np.sum(skout[sk_idx]*C_) - optval) / optval\n",
    "\n",
    "    file_name = 'Dims_' + str(m) + '_test_' + str(ntests)\n",
    "    np.save('output/'+file_name + '.npy', outs)\n",
    "    return file_name\n",
    "\n",
    "def profile(dir, accuracies, labels, colors):     \n",
    "    outs = np.load(dir)\n",
    "    (num_algs, num_objs_computed, num_accuracies, ntests) = outs.shape\n",
    "    performance_ratio = np.zeros((num_algs, num_accuracies))\n",
    "    \n",
    "    for alg_idx in range(num_algs):\n",
    "        for acc_idx in range(num_accuracies):\n",
    "            performance_ratio[alg_idx, acc_idx] = np.sum((outs[alg_idx, 0, acc_idx, :] <= accuracies[acc_idx])) / ntests\n",
    "\n",
    "    fig = plt.figure()        \n",
    "    for alg_idx in range(num_algs):\n",
    "        plt.plot(accuracies, performance_ratio[alg_idx, :], color=colors[alg_idx], label=labels[alg_idx], linewidth=2.5)\n",
    "  \n",
    "    ylabel = r'Performance ratio'\n",
    "    plt.xlabel(r'Final accuracy')\n",
    "    plt.ylabel(ylabel)\n",
    "    plt.xscale('log')\n",
    "    plt.legend()\n",
    "        \n",
    "    return fig"
   ],
   "outputs": [],
   "metadata": {}
  },
  {
   "cell_type": "code",
   "execution_count": 64,
   "source": [
    "m, n = 500, 500\n",
    "max_iters = 1000\n",
    "accuracies = np.logspace(-4.5, -1, num=15)\n",
    "skregs = np.array([1e-4, 1e-3, 5e-3, 1e-2, 5e-2, 1e-1])\n",
    "\n",
    "file_name = multi_experiment(m, n, max_iters, accuracies, skregs, alpha=2, ntests=50)"
   ],
   "outputs": [
    {
     "output_type": "stream",
     "name": "stdout",
     "text": [
      "\n",
      " *** Experiment 1 of 50 ***\n",
      "Drot done at iteration  999\n",
      "Warning: numerical errors at iteration 0\n",
      "\n",
      " *** Experiment 2 of 50 ***\n"
     ]
    },
    {
     "output_type": "stream",
     "name": "stderr",
     "text": [
      "/Users/vienmai/miniconda3/envs/common/lib/python3.8/site-packages/ot/bregman.py:363: RuntimeWarning: divide by zero encountered in true_divide\n",
      "  v = np.divide(b, KtransposeU)\n"
     ]
    },
    {
     "output_type": "stream",
     "name": "stdout",
     "text": [
      "Drot done at iteration  974\n",
      "Warning: numerical errors at iteration 0\n",
      "\n",
      " *** Experiment 3 of 50 ***\n",
      "Drot done at iteration  958\n",
      "Warning: numerical errors at iteration 0\n",
      "\n",
      " *** Experiment 4 of 50 ***\n",
      "Drot done at iteration  988\n",
      "Warning: numerical errors at iteration 0\n",
      "\n",
      " *** Experiment 5 of 50 ***\n",
      "Drot done at iteration  999\n",
      "Warning: numerical errors at iteration 0\n",
      "\n",
      " *** Experiment 6 of 50 ***\n",
      "Drot done at iteration  999\n",
      "Warning: numerical errors at iteration 0\n",
      "\n",
      " *** Experiment 7 of 50 ***\n",
      "Drot done at iteration  862\n",
      "Warning: numerical errors at iteration 0\n",
      "\n",
      " *** Experiment 8 of 50 ***\n",
      "Drot done at iteration  960\n",
      "Warning: numerical errors at iteration 0\n",
      "\n",
      " *** Experiment 9 of 50 ***\n",
      "Drot done at iteration  911\n",
      "Warning: numerical errors at iteration 0\n",
      "\n",
      " *** Experiment 10 of 50 ***\n",
      "Drot done at iteration  999\n",
      "Warning: numerical errors at iteration 0\n",
      "\n",
      " *** Experiment 11 of 50 ***\n",
      "Drot done at iteration  862\n",
      "Warning: numerical errors at iteration 0\n",
      "\n",
      " *** Experiment 12 of 50 ***\n",
      "Drot done at iteration  999\n",
      "Warning: numerical errors at iteration 0\n",
      "\n",
      " *** Experiment 13 of 50 ***\n",
      "Drot done at iteration  999\n",
      "Warning: numerical errors at iteration 0\n",
      "\n",
      " *** Experiment 14 of 50 ***\n",
      "Drot done at iteration  999\n",
      "Warning: numerical errors at iteration 0\n",
      "\n",
      " *** Experiment 15 of 50 ***\n",
      "Drot done at iteration  999\n",
      "Warning: numerical errors at iteration 0\n",
      "\n",
      " *** Experiment 16 of 50 ***\n",
      "Drot done at iteration  999\n",
      "Warning: numerical errors at iteration 0\n",
      "\n",
      " *** Experiment 17 of 50 ***\n",
      "Drot done at iteration  999\n",
      "Warning: numerical errors at iteration 0\n",
      "\n",
      " *** Experiment 18 of 50 ***\n",
      "Drot done at iteration  999\n",
      "Warning: numerical errors at iteration 0\n",
      "\n",
      " *** Experiment 19 of 50 ***\n",
      "Drot done at iteration  999\n",
      "Warning: numerical errors at iteration 0\n",
      "\n",
      " *** Experiment 20 of 50 ***\n",
      "Drot done at iteration  999\n",
      "Warning: numerical errors at iteration 0\n",
      "\n",
      " *** Experiment 21 of 50 ***\n",
      "Drot done at iteration  999\n",
      "Warning: numerical errors at iteration 0\n",
      "\n",
      " *** Experiment 22 of 50 ***\n",
      "Drot done at iteration  999\n",
      "Warning: numerical errors at iteration 0\n",
      "\n",
      " *** Experiment 23 of 50 ***\n",
      "Drot done at iteration  865\n",
      "Warning: numerical errors at iteration 0\n",
      "\n",
      " *** Experiment 24 of 50 ***\n",
      "Drot done at iteration  999\n",
      "Warning: numerical errors at iteration 0\n",
      "\n",
      " *** Experiment 25 of 50 ***\n",
      "Drot done at iteration  936\n",
      "Warning: numerical errors at iteration 0\n",
      "\n",
      " *** Experiment 26 of 50 ***\n",
      "Drot done at iteration  816\n",
      "Warning: numerical errors at iteration 0\n",
      "\n",
      " *** Experiment 27 of 50 ***\n",
      "Drot done at iteration  999\n",
      "Warning: numerical errors at iteration 0\n",
      "\n",
      " *** Experiment 28 of 50 ***\n",
      "Drot done at iteration  999\n",
      "Warning: numerical errors at iteration 0\n",
      "\n",
      " *** Experiment 29 of 50 ***\n"
     ]
    },
    {
     "output_type": "stream",
     "name": "stderr",
     "text": [
      "/Users/vienmai/miniconda3/envs/common/lib/python3.8/site-packages/ot/bregman.py:363: RuntimeWarning: overflow encountered in true_divide\n",
      "  v = np.divide(b, KtransposeU)\n"
     ]
    },
    {
     "output_type": "stream",
     "name": "stdout",
     "text": [
      "Drot done at iteration  999\n",
      "Warning: numerical errors at iteration 0\n",
      "\n",
      " *** Experiment 30 of 50 ***\n",
      "Drot done at iteration  990\n",
      "Warning: numerical errors at iteration 0\n",
      "\n",
      " *** Experiment 31 of 50 ***\n",
      "Drot done at iteration  999\n",
      "Warning: numerical errors at iteration 0\n",
      "\n",
      " *** Experiment 32 of 50 ***\n",
      "Drot done at iteration  766\n",
      "Warning: numerical errors at iteration 0\n",
      "\n",
      " *** Experiment 33 of 50 ***\n",
      "Drot done at iteration  888\n",
      "Warning: numerical errors at iteration 0\n",
      "\n",
      " *** Experiment 34 of 50 ***\n",
      "Drot done at iteration  999\n",
      "Warning: numerical errors at iteration 0\n",
      "\n",
      " *** Experiment 35 of 50 ***\n",
      "Drot done at iteration  999\n",
      "Warning: numerical errors at iteration 0\n",
      "\n",
      " *** Experiment 36 of 50 ***\n",
      "Drot done at iteration  999\n",
      "Warning: numerical errors at iteration 0\n",
      "\n",
      " *** Experiment 37 of 50 ***\n",
      "Drot done at iteration  982\n",
      "Warning: numerical errors at iteration 0\n",
      "\n",
      " *** Experiment 38 of 50 ***\n",
      "Drot done at iteration  998\n",
      "Warning: numerical errors at iteration 0\n",
      "\n",
      " *** Experiment 39 of 50 ***\n",
      "Drot done at iteration  999\n",
      "Warning: numerical errors at iteration 0\n",
      "\n",
      " *** Experiment 40 of 50 ***\n",
      "Drot done at iteration  984\n",
      "Warning: numerical errors at iteration 0\n",
      "\n",
      " *** Experiment 41 of 50 ***\n",
      "Drot done at iteration  952\n",
      "Warning: numerical errors at iteration 0\n",
      "\n",
      " *** Experiment 42 of 50 ***\n",
      "Drot done at iteration  914\n",
      "Warning: numerical errors at iteration 0\n",
      "\n",
      " *** Experiment 43 of 50 ***\n",
      "Drot done at iteration  999\n",
      "Warning: numerical errors at iteration 0\n",
      "\n",
      " *** Experiment 44 of 50 ***\n",
      "Drot done at iteration  999\n",
      "Warning: numerical errors at iteration 0\n",
      "\n",
      " *** Experiment 45 of 50 ***\n",
      "Drot done at iteration  999\n",
      "Warning: numerical errors at iteration 0\n",
      "\n",
      " *** Experiment 46 of 50 ***\n",
      "Drot done at iteration  999\n",
      "Warning: numerical errors at iteration 0\n",
      "\n",
      " *** Experiment 47 of 50 ***\n",
      "Drot done at iteration  999\n",
      "Warning: numerical errors at iteration 0\n",
      "\n",
      " *** Experiment 48 of 50 ***\n",
      "Drot done at iteration  931\n",
      "Warning: numerical errors at iteration 0\n",
      "\n",
      " *** Experiment 49 of 50 ***\n",
      "Drot done at iteration  999\n",
      "Warning: numerical errors at iteration 0\n",
      "\n",
      " *** Experiment 50 of 50 ***\n",
      "Drot done at iteration  999\n",
      "Warning: numerical errors at iteration 0\n"
     ]
    }
   ],
   "metadata": {}
  },
  {
   "cell_type": "code",
   "execution_count": 65,
   "source": [
    "labels = ['Drot', 'SK1', 'SK2', 'SK3', 'SK4', 'Sk5', 'SK6']\n",
    "colors = ['C0', 'C1', 'C2', 'C3', 'C4', 'C5', 'C6']\n",
    "dir = \"output/\" + file_name  + '.npy'\n",
    "fig = profile(dir, accuracies, labels, colors)\n",
    "\n",
    "# fig.savefig('Figures/'+ file_name + '.eps', format='eps')"
   ],
   "outputs": [
    {
     "output_type": "stream",
     "name": "stderr",
     "text": [
      "The PostScript backend does not support transparency; partially transparent artists will be rendered opaque.\n",
      "The PostScript backend does not support transparency; partially transparent artists will be rendered opaque.\n"
     ]
    },
    {
     "output_type": "display_data",
     "data": {
      "image/png": "[encoded data removed]",
      "text/plain": [
       "<Figure size 432x288 with 1 Axes>"
      ]
     },
     "metadata": {
      "needs_background": "light"
     }
    }
   ],
   "metadata": {}
  },
  {
   "cell_type": "code",
   "execution_count": 49,
   "source": [
    "m, n, C, p, q = two_dimensional_gaussian_ot(500, 500)\n",
    "x0 = np.array(np.outer(p, q), order = 'F')\n",
    "max_iters = 1000\n",
    "step = .751 / (m+n)\n",
    "\n",
    "assert C.flags['F_CONTIGUOUS']   \n",
    "assert x0.flags['F_CONTIGUOUS']   \n",
    "\n",
    "proxf = lambda x, stz: trace_nonnegative_prox(x, C, stz)\n",
    "proxg = lambda x, stz: generalized_doubly_stochastic_matrices_projection(x, p, q)\n",
    "proxg_ = lambda x, y, stz: primal_dual_trace_nonnegative_prox(x, C, y, stz)\n",
    "proxh = lambda x, xnew, y, stz: primal_dual_linear_prox(x, xnew, y, p, q, stz)\n",
    "\n",
    "drout_  = drot_(x0, C, p, q, max_iters=max_iters, step=step, compute_r_primal=True, \n",
    "              compute_r_dual=True, adapt_stepsize=False, max_step=20*step, min_step=step/100,\n",
    "              eps_abs=1e-4, eps_rel=0, verbose=False, print_every=100)\n",
    "xopt_ = drout_[\"sol\"]\n",
    "\n",
    "plt.figure(1, figsize=(10,8))\n",
    "\n",
    "plt.plot(range(drout_[\"num_iters\"]), [ f for f in drout_['dual']], label='duality gap', linewidth=2)\n",
    "plt.plot(range(drout_[\"num_iters\"]), [r for r in drout_['primal']], label='r_primal', linewidth=2)\n",
    "plt.ylabel(\"primal residual\") \n",
    "plt.yscale('log')\n",
    "plt.legend()"
   ],
   "outputs": [
    {
     "output_type": "stream",
     "name": "stdout",
     "text": [
      "Drot done at iteration  383\n"
     ]
    },
    {
     "output_type": "execute_result",
     "data": {
      "text/plain": [
       "<matplotlib.legend.Legend at 0x7ff2384223d0>"
      ]
     },
     "metadata": {},
     "execution_count": 49
    },
    {
     "output_type": "display_data",
     "data": {
      "image/png": "[encoded data removed]",
      "text/plain": [
       "<Figure size 720x576 with 1 Axes>"
      ]
     },
     "metadata": {
      "needs_background": "light"
     }
    }
   ],
   "metadata": {
    "scrolled": true,
    "tags": []
   }
  },
  {
   "cell_type": "code",
   "execution_count": 17,
   "source": [
    "filenames = [ '../gpu/output/drot.csv' ];\n",
    "labels = ['Drot']\n",
    "colors = ['C0', 'C1']\n",
    "markers = ['', '']\n",
    "fig1 = plt.figure(figsize=(10, 8))\n",
    "\n",
    "optval = 0.35937378885602755\n",
    "\n",
    "for i in range(len(filenames)):\n",
    "    k = []; t = []; r = []; f = [];\n",
    "    with open(filenames[i]) as csvfile:\n",
    "        csvReader = csv.reader(csvfile, delimiter=\",\")\n",
    "        next(csvReader)  # skip the header\n",
    "        for row in csvReader:\n",
    "            k.append(int(row[0]))\n",
    "            t.append(float(row[1]))\n",
    "            r.append(float(row[2]))\n",
    "            f.append(float(row[3]))\n",
    "\n",
    "        plt.plot(k, [res for res in r], color=colors[i+1], marker=markers[i], label=labels[i], linewidth=2)\n",
    "        plt.plot(k, [abs(fval - optval) for fval in f], color=colors[i], marker=markers[i], label=labels[i], linewidth=2)\n",
    "\n",
    "\n",
    "plt.yscale('log')\n",
    "plt.legend()\n",
    "plt.xlabel(\"Iteration\")\n",
    "plt.ylabel(\"Primal Residual\")"
   ],
   "outputs": [
    {
     "output_type": "execute_result",
     "data": {
      "text/plain": [
       "Text(0, 0.5, 'Primal Residual')"
      ]
     },
     "metadata": {},
     "execution_count": 17
    },
    {
     "output_type": "display_data",
     "data": {
      "image/png": "[encoded data removed]",
      "text/plain": [
       "<Figure size 720x576 with 1 Axes>"
      ]
     },
     "metadata": {
      "needs_background": "light"
     }
    }
   ],
   "metadata": {}
  },
  {
   "cell_type": "code",
   "execution_count": 42,
   "source": [
    "C_ = C.copy()\n",
    "G0 = ot.emd(p, q, C_, numItermax=1_000_000)\n",
    "Gsk = ot.sinkhorn(p, q, C_, 1e-3, verbose=True, numItermax=1000, stopThr=7e-5)\n",
    "Gsb = ot.bregman.sinkhorn_stabilized(p, q, C_, 1e-4, verbose=False, numItermax=200, stopThr=7e-5)"
   ],
   "outputs": [
    {
     "output_type": "stream",
     "name": "stdout",
     "text": [
      "It.  |Err         \n",
      "-------------------\n",
      "    0|4.032383e-01|\n",
      "   10|3.414337e-02|\n",
      "   20|9.586986e-03|\n",
      "   30|3.458837e-03|\n",
      "   40|1.297794e-03|\n",
      "   50|4.895757e-04|\n",
      "   60|1.848501e-04|\n",
      "   70|6.980573e-05|\n"
     ]
    }
   ],
   "metadata": {}
  },
  {
   "cell_type": "code",
   "execution_count": 43,
   "source": [
    "fdr, femd, fsk, fsb = np.sum(xopt_*C), np.sum(G0*C_), np.sum(Gsk*C_), np.sum(Gsb*C_)\n",
    "fdr, femd, fsk, fsb"
   ],
   "outputs": [
    {
     "output_type": "execute_result",
     "data": {
      "text/plain": [
       "(0.42402607490981453,\n",
       " 0.42395343750251396,\n",
       " 0.4247564632222826,\n",
       " 1.6158566264730292e-06)"
      ]
     },
     "metadata": {},
     "execution_count": 43
    }
   ],
   "metadata": {}
  },
  {
   "cell_type": "code",
   "execution_count": 44,
   "source": [
    "(fdr-femd) / femd, (fsk-femd) / femd, (fsb-femd) / femd"
   ],
   "outputs": [
    {
     "output_type": "execute_result",
     "data": {
      "text/plain": [
       "(0.00017133345522204414, 0.001894136593158027, -0.999996188598833)"
      ]
     },
     "metadata": {},
     "execution_count": 44
    }
   ],
   "metadata": {}
  },
  {
   "cell_type": "code",
   "execution_count": null,
   "source": [
    "np.sum(xopt_ > 0), np.sum(G0 > 0), np.sum(Gsk > 0)"
   ],
   "outputs": [],
   "metadata": {}
  },
  {
   "cell_type": "code",
   "execution_count": null,
   "source": [
    "fig, axs = plt.subplots(2, 2, figsize=(15, 10))\n",
    "\n",
    "axs[0, 0].imshow(xopt_, interpolation='nearest')\n",
    "axs[0, 0].set_title('OT matrix DR')\n",
    "\n",
    "axs[0, 1].imshow(G0, interpolation='nearest')\n",
    "axs[0, 1].set_title('OT matrix G0')\n",
    "\n",
    "axs[1, 1].imshow(Gs, interpolation='nearest')\n",
    "axs[1, 1].set_title('OT matrix Sinkhorn')"
   ],
   "outputs": [],
   "metadata": {}
  },
  {
   "cell_type": "code",
   "execution_count": null,
   "source": [
    "pl.figure(3, figsize=(6, 4))\n",
    "ot.plot.plot1D_mat(p, q, xopt.T, 'OT matrix DR')\n",
    "# pl.title(\"---\")\n",
    "\n",
    "pl.figure(6, figsize=(6, 4))\n",
    "ot.plot.plot1D_mat(p, q, G0, 'OT matrix LP')\n",
    "\n",
    "pl.figure(9, figsize=(6, 4))\n",
    "ot.plot.plot1D_mat(p, q, Gs, 'OT matrix Sinkhorn')\n",
    "pl.show()"
   ],
   "outputs": [],
   "metadata": {}
  }
 ],
 "metadata": {
  "interpreter": {
   "hash": "d5ba264c5f4101a9468be457e73710a096a733042fc21294adfce058d6ef15df"
  },
  "kernelspec": {
   "name": "python3",
   "display_name": "Python 3.8.10 64-bit ('common': conda)"
  },
  "language_info": {
   "codemirror_mode": {
    "name": "ipython",
    "version": 3
   },
   "file_extension": ".py",
   "mimetype": "text/x-python",
   "name": "python",
   "nbconvert_exporter": "python",
   "pygments_lexer": "ipython3",
   "version": "3.8.10"
  }
 },
 "nbformat": 4,
 "nbformat_minor": 2
}